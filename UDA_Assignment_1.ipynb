{
 "cells": [
  {
   "cell_type": "markdown",
   "metadata": {
    "id": "piTRs-9NhZ_n"
   },
   "source": [
    "### 1.\tWrite a scraper to fetch messages posted in Edmunds.com discussion forums. The scraper output should be a .csv file with the following columns: date and message (even though you will only use the messages in your analysis). Before you develop the scraper, carefully study one of the forums on Edmunds.com to understand the html as well as the threading structures. "
   ]
  },
  {
   "cell_type": "markdown",
   "metadata": {
    "id": "xVyrCXIdhRdx"
   },
   "source": [
    "#### Dependancies"
   ]
  },
  {
   "cell_type": "code",
   "execution_count": 12,
   "metadata": {
    "colab": {
     "base_uri": "https://localhost:8080/"
    },
    "id": "Xahra0HYBsCL",
    "outputId": "683ac4f0-fa89-461e-a2d6-1e9ad58c18d8"
   },
   "outputs": [
    {
     "name": "stdout",
     "output_type": "stream",
     "text": [
      "Requirement already satisfied: selenium in /Users/ankitgupta/opt/anaconda3/lib/python3.8/site-packages (3.141.0)\n",
      "Requirement already satisfied: urllib3 in /Users/ankitgupta/opt/anaconda3/lib/python3.8/site-packages (from selenium) (1.26.6)\n"
     ]
    },
    {
     "name": "stderr",
     "output_type": "stream",
     "text": [
      "[nltk_data] Downloading package punkt to\n",
      "[nltk_data]     /Users/ankitgupta/nltk_data...\n",
      "[nltk_data]   Package punkt is already up-to-date!\n",
      "[nltk_data] Downloading package wordnet to\n",
      "[nltk_data]     /Users/ankitgupta/nltk_data...\n",
      "[nltk_data]   Package wordnet is already up-to-date!\n",
      "[nltk_data] Downloading package stopwords to\n",
      "[nltk_data]     /Users/ankitgupta/nltk_data...\n",
      "[nltk_data]   Package stopwords is already up-to-date!\n"
     ]
    },
    {
     "ename": "WebDriverException",
     "evalue": "Message: 'chromedriver' executable needs to be in PATH. Please see https://sites.google.com/a/chromium.org/chromedriver/home\n",
     "output_type": "error",
     "traceback": [
      "\u001b[0;31m---------------------------------------------------------------------------\u001b[0m",
      "\u001b[0;31mFileNotFoundError\u001b[0m                         Traceback (most recent call last)",
      "\u001b[0;32m~/opt/anaconda3/lib/python3.8/site-packages/selenium/webdriver/common/service.py\u001b[0m in \u001b[0;36mstart\u001b[0;34m(self)\u001b[0m\n\u001b[1;32m     71\u001b[0m             \u001b[0mcmd\u001b[0m\u001b[0;34m.\u001b[0m\u001b[0mextend\u001b[0m\u001b[0;34m(\u001b[0m\u001b[0mself\u001b[0m\u001b[0;34m.\u001b[0m\u001b[0mcommand_line_args\u001b[0m\u001b[0;34m(\u001b[0m\u001b[0;34m)\u001b[0m\u001b[0;34m)\u001b[0m\u001b[0;34m\u001b[0m\u001b[0;34m\u001b[0m\u001b[0m\n\u001b[0;32m---> 72\u001b[0;31m             self.process = subprocess.Popen(cmd, env=self.env,\n\u001b[0m\u001b[1;32m     73\u001b[0m                                             \u001b[0mclose_fds\u001b[0m\u001b[0;34m=\u001b[0m\u001b[0mplatform\u001b[0m\u001b[0;34m.\u001b[0m\u001b[0msystem\u001b[0m\u001b[0;34m(\u001b[0m\u001b[0;34m)\u001b[0m \u001b[0;34m!=\u001b[0m \u001b[0;34m'Windows'\u001b[0m\u001b[0;34m,\u001b[0m\u001b[0;34m\u001b[0m\u001b[0;34m\u001b[0m\u001b[0m\n",
      "\u001b[0;32m~/opt/anaconda3/lib/python3.8/subprocess.py\u001b[0m in \u001b[0;36m__init__\u001b[0;34m(self, args, bufsize, executable, stdin, stdout, stderr, preexec_fn, close_fds, shell, cwd, env, universal_newlines, startupinfo, creationflags, restore_signals, start_new_session, pass_fds, encoding, errors, text)\u001b[0m\n\u001b[1;32m    857\u001b[0m \u001b[0;34m\u001b[0m\u001b[0m\n\u001b[0;32m--> 858\u001b[0;31m             self._execute_child(args, executable, preexec_fn, close_fds,\n\u001b[0m\u001b[1;32m    859\u001b[0m                                 \u001b[0mpass_fds\u001b[0m\u001b[0;34m,\u001b[0m \u001b[0mcwd\u001b[0m\u001b[0;34m,\u001b[0m \u001b[0menv\u001b[0m\u001b[0;34m,\u001b[0m\u001b[0;34m\u001b[0m\u001b[0;34m\u001b[0m\u001b[0m\n",
      "\u001b[0;32m~/opt/anaconda3/lib/python3.8/subprocess.py\u001b[0m in \u001b[0;36m_execute_child\u001b[0;34m(self, args, executable, preexec_fn, close_fds, pass_fds, cwd, env, startupinfo, creationflags, shell, p2cread, p2cwrite, c2pread, c2pwrite, errread, errwrite, restore_signals, start_new_session)\u001b[0m\n\u001b[1;32m   1705\u001b[0m                         \u001b[0merr_msg\u001b[0m \u001b[0;34m=\u001b[0m \u001b[0mos\u001b[0m\u001b[0;34m.\u001b[0m\u001b[0mstrerror\u001b[0m\u001b[0;34m(\u001b[0m\u001b[0merrno_num\u001b[0m\u001b[0;34m)\u001b[0m\u001b[0;34m\u001b[0m\u001b[0;34m\u001b[0m\u001b[0m\n\u001b[0;32m-> 1706\u001b[0;31m                     \u001b[0;32mraise\u001b[0m \u001b[0mchild_exception_type\u001b[0m\u001b[0;34m(\u001b[0m\u001b[0merrno_num\u001b[0m\u001b[0;34m,\u001b[0m \u001b[0merr_msg\u001b[0m\u001b[0;34m,\u001b[0m \u001b[0merr_filename\u001b[0m\u001b[0;34m)\u001b[0m\u001b[0;34m\u001b[0m\u001b[0;34m\u001b[0m\u001b[0m\n\u001b[0m\u001b[1;32m   1707\u001b[0m                 \u001b[0;32mraise\u001b[0m \u001b[0mchild_exception_type\u001b[0m\u001b[0;34m(\u001b[0m\u001b[0merr_msg\u001b[0m\u001b[0;34m)\u001b[0m\u001b[0;34m\u001b[0m\u001b[0;34m\u001b[0m\u001b[0m\n",
      "\u001b[0;31mFileNotFoundError\u001b[0m: [Errno 2] No such file or directory: 'chromedriver'",
      "\nDuring handling of the above exception, another exception occurred:\n",
      "\u001b[0;31mWebDriverException\u001b[0m                        Traceback (most recent call last)",
      "\u001b[0;32m/var/folders/vn/ttftpr857k9066_2zcs811jc0000gn/T/ipykernel_76762/4097835042.py\u001b[0m in \u001b[0;36m<module>\u001b[0;34m\u001b[0m\n\u001b[1;32m     28\u001b[0m \u001b[0mchrome_options\u001b[0m\u001b[0;34m.\u001b[0m\u001b[0madd_argument\u001b[0m\u001b[0;34m(\u001b[0m\u001b[0;34m'--disable-dev-shm-usage'\u001b[0m\u001b[0;34m)\u001b[0m\u001b[0;34m\u001b[0m\u001b[0;34m\u001b[0m\u001b[0m\n\u001b[1;32m     29\u001b[0m \u001b[0;34m\u001b[0m\u001b[0m\n\u001b[0;32m---> 30\u001b[0;31m \u001b[0mwd\u001b[0m \u001b[0;34m=\u001b[0m \u001b[0mwebdriver\u001b[0m\u001b[0;34m.\u001b[0m\u001b[0mChrome\u001b[0m\u001b[0;34m(\u001b[0m\u001b[0;34mr'chromedriver'\u001b[0m\u001b[0;34m,\u001b[0m\u001b[0moptions\u001b[0m\u001b[0;34m=\u001b[0m\u001b[0mchrome_options\u001b[0m\u001b[0;34m)\u001b[0m\u001b[0;34m\u001b[0m\u001b[0;34m\u001b[0m\u001b[0m\n\u001b[0m\u001b[1;32m     31\u001b[0m \u001b[0mwd\u001b[0m\u001b[0;34m.\u001b[0m\u001b[0mget\u001b[0m\u001b[0;34m(\u001b[0m\u001b[0;34m'https://forums.edmunds.com/discussion/2864/general/x/entry-level-luxury-performance-sedans/p434'\u001b[0m\u001b[0;34m)\u001b[0m\u001b[0;34m\u001b[0m\u001b[0;34m\u001b[0m\u001b[0m\n",
      "\u001b[0;32m~/opt/anaconda3/lib/python3.8/site-packages/selenium/webdriver/chrome/webdriver.py\u001b[0m in \u001b[0;36m__init__\u001b[0;34m(self, executable_path, port, options, service_args, desired_capabilities, service_log_path, chrome_options, keep_alive)\u001b[0m\n\u001b[1;32m     71\u001b[0m             \u001b[0mservice_args\u001b[0m\u001b[0;34m=\u001b[0m\u001b[0mservice_args\u001b[0m\u001b[0;34m,\u001b[0m\u001b[0;34m\u001b[0m\u001b[0;34m\u001b[0m\u001b[0m\n\u001b[1;32m     72\u001b[0m             log_path=service_log_path)\n\u001b[0;32m---> 73\u001b[0;31m         \u001b[0mself\u001b[0m\u001b[0;34m.\u001b[0m\u001b[0mservice\u001b[0m\u001b[0;34m.\u001b[0m\u001b[0mstart\u001b[0m\u001b[0;34m(\u001b[0m\u001b[0;34m)\u001b[0m\u001b[0;34m\u001b[0m\u001b[0;34m\u001b[0m\u001b[0m\n\u001b[0m\u001b[1;32m     74\u001b[0m \u001b[0;34m\u001b[0m\u001b[0m\n\u001b[1;32m     75\u001b[0m         \u001b[0;32mtry\u001b[0m\u001b[0;34m:\u001b[0m\u001b[0;34m\u001b[0m\u001b[0;34m\u001b[0m\u001b[0m\n",
      "\u001b[0;32m~/opt/anaconda3/lib/python3.8/site-packages/selenium/webdriver/common/service.py\u001b[0m in \u001b[0;36mstart\u001b[0;34m(self)\u001b[0m\n\u001b[1;32m     79\u001b[0m         \u001b[0;32mexcept\u001b[0m \u001b[0mOSError\u001b[0m \u001b[0;32mas\u001b[0m \u001b[0merr\u001b[0m\u001b[0;34m:\u001b[0m\u001b[0;34m\u001b[0m\u001b[0;34m\u001b[0m\u001b[0m\n\u001b[1;32m     80\u001b[0m             \u001b[0;32mif\u001b[0m \u001b[0merr\u001b[0m\u001b[0;34m.\u001b[0m\u001b[0merrno\u001b[0m \u001b[0;34m==\u001b[0m \u001b[0merrno\u001b[0m\u001b[0;34m.\u001b[0m\u001b[0mENOENT\u001b[0m\u001b[0;34m:\u001b[0m\u001b[0;34m\u001b[0m\u001b[0;34m\u001b[0m\u001b[0m\n\u001b[0;32m---> 81\u001b[0;31m                 raise WebDriverException(\n\u001b[0m\u001b[1;32m     82\u001b[0m                     \"'%s' executable needs to be in PATH. %s\" % (\n\u001b[1;32m     83\u001b[0m                         os.path.basename(self.path), self.start_error_message)\n",
      "\u001b[0;31mWebDriverException\u001b[0m: Message: 'chromedriver' executable needs to be in PATH. Please see https://sites.google.com/a/chromium.org/chromedriver/home\n"
     ]
    }
   ],
   "source": [
    "!pip install selenium\n",
    "# !apt-get -q update\n",
    "# !apt install -yq chromium-chromedriver\n",
    "# !cp /usr/lib/chromium-browser/chromedriver /usr/bin\n",
    "\n",
    "import sys\n",
    "# sys.path.insert(0,r'chromedriver')\n",
    "from selenium import webdriver \n",
    "from nltk.stem import WordNetLemmatizer\n",
    "import nltk\n",
    "import string\n",
    "import unicodedata\n",
    "import scipy.stats as ss\n",
    "import collections as col\n",
    "import pandas as pd\n",
    "import matplotlib.pyplot as plt \n",
    "import numpy as np\n",
    "from nltk.tokenize import word_tokenize\n",
    "from nltk.corpus import wordnet\n",
    "from nltk.corpus import stopwords\n",
    "nltk.download('punkt')\n",
    "nltk.download('wordnet')\n",
    "nltk.download('stopwords')\n",
    "\n",
    "chrome_options = webdriver.ChromeOptions()\n",
    "chrome_options.add_argument('--headless')\n",
    "chrome_options.add_argument('--no-sandbox')\n",
    "chrome_options.add_argument('--disable-dev-shm-usage')\n",
    "\n",
    "wd = webdriver.Chrome(r'chromedriver',options=chrome_options)\n",
    "wd.get('https://forums.edmunds.com/discussion/2864/general/x/entry-level-luxury-performance-sedans/p434')"
   ]
  },
  {
   "cell_type": "markdown",
   "metadata": {
    "id": "G8JKXrUBg3Zj"
   },
   "source": [
    "#### Scraper Test - Getting User Comment"
   ]
  },
  {
   "cell_type": "code",
   "execution_count": null,
   "metadata": {
    "id": "ERQ1IhrbL-p_"
   },
   "outputs": [],
   "source": [
    "# user_message = wd.find_elements_by_xpath('//*[@id=\"Comment_5757969\"]/div/div[3]/div/div[1]')[0]\n",
    "# wd.execute_script('''\n",
    "#         var element = document.getElementsByClassName(\"UserQuote blockquote\"), index;\n",
    "#         for (index = element.length - 1; index >= 0; index--) {\n",
    "#             element[index].parentNode.removeChild(element[index]);\n",
    "#         }\n",
    "#     ''')\n",
    "# print(user_message.text)\n",
    "\n",
    "from bs4 import BeautifulSoup\n",
    "\n",
    "soup = BeautifulSoup(wd.page_source, 'html.parser')\n",
    "soup.find('blockquote')\n",
    "\n",
    "for s in soup.select('blockquote'):\n",
    "  s.extract()"
   ]
  },
  {
   "cell_type": "markdown",
   "metadata": {
    "id": "UNvdqxs2htGJ"
   },
   "source": [
    "### 2. Fetch around 5000 posts about cars from the Entry Level Luxury forum https://forums.edmunds.com/discussion/2864/general/x/entry-level-luxury-performance-sedans"
   ]
  },
  {
   "cell_type": "markdown",
   "metadata": {
    "id": "EZ7wwDqAg_7H"
   },
   "source": [
    "#### Scraper"
   ]
  },
  {
   "cell_type": "code",
   "execution_count": null,
   "metadata": {
    "id": "FWpX39vbH8G9"
   },
   "outputs": [],
   "source": [
    "last_page = int(wd.find_elements_by_xpath('//*[@id=\"PagerBefore\"]/a[8]')[0].text)\n",
    "comments = pd.DataFrame(columns = ['Date', 'comments']) \n",
    "\n",
    "for i in range(last_page, last_page-101, -1):\n",
    "  wd.get('https://forums.edmunds.com/discussion/2864/general/x/entry-level-luxury-performance-sedans/p' + str(i))\n",
    "  soup = BeautifulSoup(wd.page_source, 'html.parser')\n",
    "  soup.find('blockquote')\n",
    "\n",
    "  for s in soup.select('blockquote'):\n",
    "    s.extract()\n",
    "    \n",
    "  ids = wd.find_elements_by_xpath(\"//*[contains(@id,'Comment_')]\")\n",
    "  comment_ids = []\n",
    "\n",
    "  for i in ids:\n",
    "    comment_ids.append(i.get_attribute('id'))\n",
    "  \\\n",
    "\n",
    "  for x in comment_ids:\n",
    "      #Extract dates from for each user on a page\n",
    "      user_date = wd.find_elements_by_xpath('//*[@id=\"' + x +'\"]/div/div[2]/div[2]/span/a/time')[0]\n",
    "      date = user_date.get_attribute('title')\n",
    "\n",
    "      #Extract Message for each user on a page\n",
    "      user_message = wd.find_elements_by_xpath('//*[@id=\"' + x +'\"]/div/div[3]/div/div[1]')[0]\n",
    "      comment = user_message.text\n",
    "                                    \n",
    "      #Adding date, userid and comment for each user in a dataframe    \n",
    "      comments.loc[len(comments)] = [date, comment]"
   ]
  },
  {
   "cell_type": "code",
   "execution_count": null,
   "metadata": {
    "id": "PwZ2LQLUQ5_9"
   },
   "outputs": [],
   "source": [
    "comments.head(5000).to_csv('/content/drive/MyDrive/Colab Notebooks/Unstructured Data Analytics/Assignment 1/edmunds-data-without-script.csv')"
   ]
  },
  {
   "cell_type": "markdown",
   "metadata": {
    "id": "cUYLgnQFhOGR"
   },
   "source": [
    "### Task A: Once you fetch the data, test if the data support Zipf’s law. Plot the most common 100 words in the data against the theoretical prediction of the law. For this question, do not remove stopwords. Also do not perform stemming or lemmatization. "
   ]
  },
  {
   "cell_type": "code",
   "execution_count": null,
   "metadata": {
    "colab": {
     "base_uri": "https://localhost:8080/",
     "height": 175
    },
    "id": "08vE9JVXv3jh",
    "outputId": "d811f0ab-7255-432c-b59a-828ed9c8deb9"
   },
   "outputs": [
    {
     "data": {
      "text/html": [
       "<div>\n",
       "<style scoped>\n",
       "    .dataframe tbody tr th:only-of-type {\n",
       "        vertical-align: middle;\n",
       "    }\n",
       "\n",
       "    .dataframe tbody tr th {\n",
       "        vertical-align: top;\n",
       "    }\n",
       "\n",
       "    .dataframe thead th {\n",
       "        text-align: right;\n",
       "    }\n",
       "</style>\n",
       "<table border=\"1\" class=\"dataframe\">\n",
       "  <thead>\n",
       "    <tr style=\"text-align: right;\">\n",
       "      <th></th>\n",
       "      <th>comments</th>\n",
       "    </tr>\n",
       "    <tr>\n",
       "      <th>Date</th>\n",
       "      <th></th>\n",
       "    </tr>\n",
       "  </thead>\n",
       "  <tbody>\n",
       "    <tr>\n",
       "      <th>2020-02-25 12:30:00</th>\n",
       "      <td>Michaell said:\\nshow previous quotes\\n$12,200 ...</td>\n",
       "    </tr>\n",
       "    <tr>\n",
       "      <th>2020-02-25 12:30:00</th>\n",
       "      <td>wow</td>\n",
       "    </tr>\n",
       "    <tr>\n",
       "      <th>2020-02-25 11:58:00</th>\n",
       "      <td>dino001 said:\\nBTW, I looked into incentives o...</td>\n",
       "    </tr>\n",
       "  </tbody>\n",
       "</table>\n",
       "</div>"
      ],
      "text/plain": [
       "                                                              comments\n",
       "Date                                                                  \n",
       "2020-02-25 12:30:00  Michaell said:\\nshow previous quotes\\n$12,200 ...\n",
       "2020-02-25 12:30:00                                                wow\n",
       "2020-02-25 11:58:00  dino001 said:\\nBTW, I looked into incentives o..."
      ]
     },
     "execution_count": 5,
     "metadata": {},
     "output_type": "execute_result"
    }
   ],
   "source": [
    "df = pd.read_csv(\"/content/drive/MyDrive/Colab Notebooks/Unstructured Data Analytics/Assignment 1/edmunds-data-without-script.csv\")\n",
    "\n",
    "df.drop('Unnamed: 0', axis=1, inplace=True)\n",
    "df['Date'] = pd.to_datetime(df['Date'])\n",
    "df.set_index('Date', inplace=True)\n",
    "df.sort_index(ascending=False, inplace=True)\n",
    "df.head(3)"
   ]
  },
  {
   "cell_type": "code",
   "execution_count": null,
   "metadata": {
    "colab": {
     "base_uri": "https://localhost:8080/"
    },
    "id": "p2XDz_pkxxhC",
    "outputId": "a36cce3a-9d7a-446f-8730-41daf0a08e91"
   },
   "outputs": [
    {
     "name": "stdout",
     "output_type": "stream",
     "text": [
      "Total number of Tokens: 634945\n",
      "\n",
      " First 10 Tokens\n",
      "['michaell', 'said', ':', 'show', 'previous', 'quotes', '$', '12,200', 'lease', 'cash']\n"
     ]
    }
   ],
   "source": [
    "# convert df into a list\n",
    "comments_list = [str(i) for i in list(df.comments)]\n",
    "\n",
    "# remove all \\n from the text\n",
    "comments_string = \" \".join(comments_list)\n",
    "comments_string = comments_string.replace('\\n', '')\n",
    "\n",
    "# tokenization\n",
    "tokens = word_tokenize(comments_string)\n",
    "print('Total number of Tokens: ' + str(len(tokens)))\n",
    "\n",
    "# convert to lower case\n",
    "tokens = [w.lower() for w in tokens]\n",
    "\n",
    "print('\\n First 10 Tokens')\n",
    "print(tokens[:10])"
   ]
  },
  {
   "cell_type": "code",
   "execution_count": null,
   "metadata": {
    "colab": {
     "base_uri": "https://localhost:8080/"
    },
    "id": "6vV9ussWAT7X",
    "outputId": "ad4371b4-c48e-4c2b-bdc9-77433995fb28"
   },
   "outputs": [
    {
     "name": "stdout",
     "output_type": "stream",
     "text": [
      "[('the', 29649), (',', 27332), ('.', 20972), ('a', 14460), ('i', 12563), ('to', 12461), ('and', 12005), ('of', 9113), ('it', 8140), ('is', 8126)]\n"
     ]
    }
   ],
   "source": [
    "c = col.Counter(tokens)\n",
    "counts = c.most_common(100)\n",
    "print (counts[:10])"
   ]
  },
  {
   "cell_type": "code",
   "execution_count": null,
   "metadata": {
    "colab": {
     "base_uri": "https://localhost:8080/",
     "height": 312
    },
    "id": "83nk4fQG1Wxg",
    "outputId": "308767b5-c228-4e1b-d752-c980b9c4ee79"
   },
   "outputs": [
    {
     "data": {
      "text/plain": [
       "Text(0, 0.5, 'Frequency')"
      ]
     },
     "execution_count": 8,
     "metadata": {},
     "output_type": "execute_result"
    },
    {
     "data": {
      "image/png": "[encoded data removed]",
      "text/plain": [
       "<Figure size 432x288 with 1 Axes>"
      ]
     },
     "metadata": {
      "needs_background": "light"
     },
     "output_type": "display_data"
    }
   ],
   "source": [
    "df_tokens = pd.DataFrame(tokens)\n",
    "df_tokens_frequency = df_tokens.groupby([0])[0].agg(['count']).sort_values(by='count', ascending=False).head(100)\n",
    "df_tokens_frequency['count'] = df_tokens_frequency['count'].astype(float)\n",
    "freq = list(df_tokens_frequency['count'])\n",
    "rank_order = np.arange(1, len(freq)+1)\n",
    "\n",
    "plt.plot(rank_order, freq)\n",
    "plt.title('Word Distribution Chart')\n",
    "plt.xlabel('Rank Order of Frequency')\n",
    "plt.ylabel('Frequency')"
   ]
  },
  {
   "cell_type": "code",
   "execution_count": null,
   "metadata": {
    "colab": {
     "base_uri": "https://localhost:8080/",
     "height": 312
    },
    "id": "s6_OPN9CntMz",
    "outputId": "87e54903-242c-46ad-fbdd-b0745755ffe7"
   },
   "outputs": [
    {
     "data": {
      "text/plain": [
       "Text(0, 0.5, 'Log (Frequency)')"
      ]
     },
     "execution_count": 9,
     "metadata": {},
     "output_type": "execute_result"
    },
    {
     "data": {
      "image/png": "[encoded data removed]",
      "text/plain": [
       "<Figure size 432x288 with 1 Axes>"
      ]
     },
     "metadata": {
      "needs_background": "light"
     },
     "output_type": "display_data"
    }
   ],
   "source": [
    "log_freq = list(np.log2(df_tokens_frequency['count']))\n",
    "log_rank_order = np.log2(rank_order)\n",
    "\n",
    "plt.scatter(log_rank_order, log_freq)\n",
    "plt.title('Top 100 Words compared to Zipfs Law')\n",
    "plt.xlabel('Log (Rank of Word)')\n",
    "plt.ylabel('Log (Frequency)')"
   ]
  },
  {
   "cell_type": "code",
   "execution_count": null,
   "metadata": {
    "colab": {
     "base_uri": "https://localhost:8080/",
     "height": 367
    },
    "id": "kYh9HUqEVjWH",
    "outputId": "b67a55bf-b122-489f-bf05-e2191cd304b9"
   },
   "outputs": [
    {
     "name": "stderr",
     "output_type": "stream",
     "text": [
      "/usr/local/lib/python3.7/dist-packages/statsmodels/tools/_testing.py:19: FutureWarning: pandas.util.testing is deprecated. Use the functions in the public API at pandas.testing instead.\n",
      "  import pandas.util.testing as tm\n"
     ]
    },
    {
     "data": {
      "text/plain": [
       "Text(0, 0.5, 'Log (Frequency)')"
      ]
     },
     "execution_count": 10,
     "metadata": {},
     "output_type": "execute_result"
    },
    {
     "data": {
      "image/png": "[encoded data removed]",
      "text/plain": [
       "<Figure size 432x288 with 1 Axes>"
      ]
     },
     "metadata": {
      "needs_background": "light"
     },
     "output_type": "display_data"
    }
   ],
   "source": [
    "import statsmodels.api as sm\n",
    "\n",
    "y = np.array(log_rank_order)\n",
    "X = np.array([x / (len(log_freq) * freq[len(freq)-1]) for x in log_freq])\n",
    "res = sm.OLS(y, X).fit()\n",
    "y_pred = res.predict(X)\n",
    "\n",
    "plt.scatter(log_rank_order, log_freq)\n",
    "plt.scatter(log_rank_order, y_pred)\n",
    "plt.title('Top 100 Words compared to Zipfs Law')\n",
    "plt.xlabel('Log (Rank of Word)')\n",
    "plt.ylabel('Log (Frequency)')"
   ]
  },
  {
   "cell_type": "markdown",
   "metadata": {
    "id": "YeQeEZ7-ib_w"
   },
   "source": [
    "### Task B: Find the top 10 brands from frequency counts. You will need to write a script to count the frequencies of words (stopwords should NOT be counted). Replace frequently occurring car models with brands so that from now on you have to deal with only brands and not models. You will need another script for this job. A list of model and brand names (not exhaustive) are provided in a separate file.   "
   ]
  },
  {
   "cell_type": "code",
   "execution_count": null,
   "metadata": {
    "colab": {
     "base_uri": "https://localhost:8080/"
    },
    "id": "hoPbNJU5wYRi",
    "outputId": "dfcf01dc-1718-486e-d550-eafe2707e61a"
   },
   "outputs": [
    {
     "data": {
      "text/plain": [
       "[('integra', 'acura'),\n",
       " ('legend', 'honda'),\n",
       " ('vigor', 'acura'),\n",
       " ('rlx', 'acura'),\n",
       " ('ilx', 'acura')]"
      ]
     },
     "execution_count": 11,
     "metadata": {},
     "output_type": "execute_result"
    }
   ],
   "source": [
    "models_df = pd.read_csv(\"/content/drive/MyDrive/Colab Notebooks/Unstructured Data Analytics/Assignment 1/car models brands.csv\")\n",
    "models_dict = dict(zip(models_df.Model, models_df.Brand))\n",
    "list(models_dict.items())[:5]"
   ]
  },
  {
   "cell_type": "code",
   "execution_count": null,
   "metadata": {
    "colab": {
     "base_uri": "https://localhost:8080/",
     "height": 363
    },
    "id": "RFpGvbHnxmr2",
    "outputId": "8aabc3ec-6f3d-4659-bdf8-91eb74225340"
   },
   "outputs": [
    {
     "data": {
      "text/html": [
       "<div>\n",
       "<style scoped>\n",
       "    .dataframe tbody tr th:only-of-type {\n",
       "        vertical-align: middle;\n",
       "    }\n",
       "\n",
       "    .dataframe tbody tr th {\n",
       "        vertical-align: top;\n",
       "    }\n",
       "\n",
       "    .dataframe thead th {\n",
       "        text-align: right;\n",
       "    }\n",
       "</style>\n",
       "<table border=\"1\" class=\"dataframe\">\n",
       "  <thead>\n",
       "    <tr style=\"text-align: right;\">\n",
       "      <th></th>\n",
       "      <th>Frequency</th>\n",
       "    </tr>\n",
       "  </thead>\n",
       "  <tbody>\n",
       "    <tr>\n",
       "      <th>car</th>\n",
       "      <td>6069</td>\n",
       "    </tr>\n",
       "    <tr>\n",
       "      <th>toyota</th>\n",
       "      <td>4006</td>\n",
       "    </tr>\n",
       "    <tr>\n",
       "      <th>bmw</th>\n",
       "      <td>658</td>\n",
       "    </tr>\n",
       "    <tr>\n",
       "      <th>seat</th>\n",
       "      <td>599</td>\n",
       "    </tr>\n",
       "    <tr>\n",
       "      <th>honda</th>\n",
       "      <td>491</td>\n",
       "    </tr>\n",
       "    <tr>\n",
       "      <th>sedan</th>\n",
       "      <td>359</td>\n",
       "    </tr>\n",
       "    <tr>\n",
       "      <th>problem</th>\n",
       "      <td>328</td>\n",
       "    </tr>\n",
       "    <tr>\n",
       "      <th>audi</th>\n",
       "      <td>294</td>\n",
       "    </tr>\n",
       "    <tr>\n",
       "      <th>dodge</th>\n",
       "      <td>266</td>\n",
       "    </tr>\n",
       "    <tr>\n",
       "      <th>nissan</th>\n",
       "      <td>227</td>\n",
       "    </tr>\n",
       "  </tbody>\n",
       "</table>\n",
       "</div>"
      ],
      "text/plain": [
       "         Frequency\n",
       "car           6069\n",
       "toyota        4006\n",
       "bmw            658\n",
       "seat           599\n",
       "honda          491\n",
       "sedan          359\n",
       "problem        328\n",
       "audi           294\n",
       "dodge          266\n",
       "nissan         227"
      ]
     },
     "execution_count": 12,
     "metadata": {},
     "output_type": "execute_result"
    }
   ],
   "source": [
    "import re\n",
    "\n",
    "# convert df into a text string\n",
    "text = [str(i) for i in list(df.comments)]\n",
    "text = \" \".join(text)\n",
    "\n",
    "model_freq = []\n",
    "brand_freq = []\n",
    "models_list = models_dict.keys()\n",
    "brands_list = np.unique(list(models_dict.values()))\n",
    "\n",
    "# replacing all models in the text with their brand name\n",
    "for model in models_list:\n",
    "  text = re.sub(model, models_dict[model], text)\n",
    "\n",
    "# finding frequency of each brand name from the text\n",
    "for brand in brands_list:\n",
    "  brand_freq.append(len(re.findall(brand, text)))\n",
    "\n",
    "new = pd.DataFrame(brand_freq, index = brands_list, columns=['Frequency'])\n",
    "new = new.sort_values(by='Frequency', ascending=False)\n",
    "new.head(10)"
   ]
  },
  {
   "cell_type": "code",
   "execution_count": null,
   "metadata": {
    "id": "nsmlgflNA01J"
   },
   "outputs": [],
   "source": [
    "# def remove_accented_chars(text):\n",
    "#     new_text = []\n",
    "#     for i in text:\n",
    "#       new_text.append(unicodedata.normalize('NFKD', i).encode('ascii', 'ignore').decode('utf-8', 'ignore'))\n",
    "#     return new_text\n",
    "\n",
    "# # convert df into a list\n",
    "# text = [str(i) for i in list(df.comments)]\n",
    "\n",
    "# # remove all \\n from the text\n",
    "# text = \" \".join(text)\n",
    "# text = text.replace('\\n', '')\n",
    "\n",
    "# # tokenization\n",
    "# tokens = word_tokenize(text)\n",
    "# print('Initial Tokens: ' + str(len(tokens)))\n",
    "\n",
    "# # convert to lower case\n",
    "# tokens = [w.lower() for w in tokens]\n",
    "# print('Conversion to Lower Case: ' + str(len(tokens)))\n",
    "\n",
    "# # remove all empty strings\n",
    "# all_char = string.ascii_lowercase.replace(\"\", \" \")[1: -1].split(\" \")[1:]\n",
    "# tokens = [i for i in tokens if i and not i in all_char]\n",
    "# print('Removing empty strings: ' + str(len(tokens)))\n",
    "\n",
    "# # remove punctuation from each word\n",
    "# table = str.maketrans('', '', string.punctuation)\n",
    "# stripped = [w.translate(table) for w in tokens]\n",
    "# print('Removing punctuations: ' + str(len(tokens)))\n",
    "\n",
    "# # filter out stop words\n",
    "# stop_words = set(stopwords.words('english'))\n",
    "# tokens = [w for w in tokens if not w in stop_words]\n",
    "# print('Filtering Stop Words: ' + str(len(tokens)))\n",
    "\n",
    "# # function to remove accented characters \n",
    "# tokens = remove_accented_chars(tokens)\n",
    "# print('Removing Accented Characters: ' + str(len(tokens)))\n",
    "\n",
    "# print('\\n First 10 Tokens')\n",
    "# print(tokens[:10])"
   ]
  }
 ],
 "metadata": {
  "colab": {
   "collapsed_sections": [
    "xVyrCXIdhRdx",
    "G8JKXrUBg3Zj",
    "UNvdqxs2htGJ"
   ],
   "name": "UDA Assignment 1.ipynb",
   "provenance": []
  },
  "kernelspec": {
   "display_name": "Python 3 (ipykernel)",
   "language": "python",
   "name": "python3"
  },
  "language_info": {
   "codemirror_mode": {
    "name": "ipython",
    "version": 3
   },
   "file_extension": ".py",
   "mimetype": "text/x-python",
   "name": "python",
   "nbconvert_exporter": "python",
   "pygments_lexer": "ipython3",
   "version": "3.8.8"
  }
 },
 "nbformat": 4,
 "nbformat_minor": 1
}
